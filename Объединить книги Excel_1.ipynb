{
 "cells": [
  {
   "cell_type": "code",
   "execution_count": 1,
   "id": "e5adcf31-33b8-4b5c-b2dd-a0a97cbe6fe4",
   "metadata": {},
   "outputs": [
    {
     "name": "stderr",
     "output_type": "stream",
     "text": [
      "C:\\Users\\Alexk\\AppData\\Local\\Temp\\ipykernel_18372\\3098862782.py:15: DeprecationWarning: \n",
      "Pyarrow will become a required dependency of pandas in the next major release of pandas (pandas 3.0),\n",
      "(to allow more performant data types, such as the Arrow string type, and better interoperability with other libraries)\n",
      "but was not found to be installed on your system.\n",
      "If this would cause problems for you,\n",
      "please provide us feedback at https://github.com/pandas-dev/pandas/issues/54466\n",
      "        \n",
      "  import pandas as pd\n"
     ]
    }
   ],
   "source": [
    "# ОБЪЕДИНИТЬ КНИГИ EXCEL\n",
    "# Задача — объединить много Excel XLSX файлов в один файл CSV.  \n",
    "# Зачем это нужно:\n",
    "\n",
    "# 1.Чтобы работать с одним файлом, а не целой кучей. Если мы объединяем файлы в PQ, то отчет работает очень медленно. \n",
    "# Гораздо лучше в Excel сразу импортировать объединенный файл;\n",
    "# 2.Чтобы отказать от XLSX формата. Если мы работаем с внешними файлами в формате XLSX, то мы обречены на очень низкую производительность. \n",
    "# Файлы в формате CSV обрабатываются в десятки раз быстрее, чем в формате XLSX.\n",
    "\n",
    "# Импортируем нужные модули:\n",
    "# pandas — чтобы импортировать и подготовить данные\n",
    "# glob — чтобы подключиться к нужно папке и найти в ней нужные файлы\n",
    "\n",
    "import glob\n",
    "import pandas as pd\n",
    "import os"
   ]
  },
  {
   "cell_type": "code",
   "execution_count": 2,
   "id": "f35fb0dc",
   "metadata": {},
   "outputs": [],
   "source": [
    "os.chdir('Y:\\\\alex\\\\Мои документы\\\\2024\\\\ВДГО\\\\ТЗ\\\\Графики\\\\')"
   ]
  },
  {
   "cell_type": "code",
   "execution_count": 3,
   "id": "155f87b0",
   "metadata": {},
   "outputs": [],
   "source": [
    "#  Создадим список книг для объединения\n",
    "\n",
    "# Список файлов Excel для объединения\n",
    "xl_files = glob.glob('*.xlsx')"
   ]
  },
  {
   "cell_type": "code",
   "execution_count": 4,
   "id": "1d43bc07",
   "metadata": {},
   "outputs": [
    {
     "data": {
      "text/plain": [
       "['Газтехсервис ООО.xlsx', 'ГазЭкс ООО.xlsx', 'Плазма.xlsx', 'Фаворит ООО.xlsx']"
      ]
     },
     "execution_count": 4,
     "metadata": {},
     "output_type": "execute_result"
    }
   ],
   "source": [
    "xl_files"
   ]
  },
  {
   "cell_type": "code",
   "execution_count": 5,
   "id": "d74c1317",
   "metadata": {},
   "outputs": [],
   "source": [
    "# Создадим датафрейм, в который запишем таблицы\n",
    "combined = pd.DataFrame()"
   ]
  },
  {
   "cell_type": "code",
   "execution_count": 6,
   "id": "21c63def",
   "metadata": {},
   "outputs": [
    {
     "data": {
      "text/plain": [
       "list"
      ]
     },
     "execution_count": 6,
     "metadata": {},
     "output_type": "execute_result"
    }
   ],
   "source": [
    "type(xl_files)"
   ]
  },
  {
   "cell_type": "code",
   "execution_count": 7,
   "id": "cfbfa6ee-7068-4a29-97fe-b198f9d95eb2",
   "metadata": {},
   "outputs": [],
   "source": [
    "# Читаем каждый файл и объединяем все таблицы\n",
    "\n",
    "# Цикл по файлам\n",
    "for xl_file in xl_files:\n",
    "    # Создать объект ExcelFile\n",
    "    xl_file_obj = pd.ExcelFile(xl_file)\n",
    "    # Прочитать нужный лист книги\n",
    "    data = pd.read_excel(xl_file_obj,\n",
    "                             sheet_name='Лист1')\n",
    "    # Создадать столбец с названием книги\n",
    "    data['workbook'] = xl_file.replace(\".xlsx\",\"\")\n",
    "    # Дописать в датафрейм combined\n",
    "    # combined = combined.append(data)\n",
    "    combined = pd.concat([combined, data])"
   ]
  },
  {
   "cell_type": "code",
   "execution_count": 8,
   "id": "9301359b-f07e-4aea-800a-d6e4d535b114",
   "metadata": {},
   "outputs": [],
   "source": [
    "## Записать результат в книгу Excel.\n",
    "combined.to_excel('Y:\\\\alex\\\\Мои документы\\\\2024\\\\ВДГО\\\\ТЗ\\\\sum_.xlsx',\n",
    "                         index=False)"
   ]
  }
 ],
 "metadata": {
  "kernelspec": {
   "display_name": "Python 3 (ipykernel)",
   "language": "python",
   "name": "python3"
  },
  "language_info": {
   "codemirror_mode": {
    "name": "ipython",
    "version": 3
   },
   "file_extension": ".py",
   "mimetype": "text/x-python",
   "name": "python",
   "nbconvert_exporter": "python",
   "pygments_lexer": "ipython3",
   "version": "3.11.8"
  }
 },
 "nbformat": 4,
 "nbformat_minor": 5
}
