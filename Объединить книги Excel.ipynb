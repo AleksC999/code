{
 "cells": [
  {
   "cell_type": "code",
   "execution_count": 1,
   "id": "e5adcf31-33b8-4b5c-b2dd-a0a97cbe6fe4",
   "metadata": {},
   "outputs": [
    {
     "name": "stderr",
     "output_type": "stream",
     "text": [
      "C:\\Users\\Alexk\\AppData\\Local\\Temp\\ipykernel_20432\\3783865018.py:15: DeprecationWarning: \n",
      "Pyarrow will become a required dependency of pandas in the next major release of pandas (pandas 3.0),\n",
      "(to allow more performant data types, such as the Arrow string type, and better interoperability with other libraries)\n",
      "but was not found to be installed on your system.\n",
      "If this would cause problems for you,\n",
      "please provide us feedback at https://github.com/pandas-dev/pandas/issues/54466\n",
      "        \n",
      "  import pandas as pd\n"
     ]
    }
   ],
   "source": [
    "# ОБЪЕДИНИТЬ КНИГИ EXCEL\n",
    "# Задача — объединить много Excel XLSX файлов в один файл CSV.  \n",
    "# Зачем это нужно:\n",
    "\n",
    "# 1.Чтобы работать с одним файлом, а не целой кучей. Если мы объединяем файлы в PQ, то отчет работает очень медленно. \n",
    "# Гораздо лучше в Excel сразу импортировать объединенный файл;\n",
    "# 2.Чтобы отказать от XLSX формата. Если мы работаем с внешними файлами в формате XLSX, то мы обречены на очень низкую производительность. \n",
    "# Файлы в формате CSV обрабатываются в десятки раз быстрее, чем в формате XLSX.\n",
    "\n",
    "# Импортируем нужные модули:\n",
    "# pandas — чтобы импортировать и подготовить данные\n",
    "# glob — чтобы подключиться к нужно папке и найти в ней нужные файлы\n",
    "\n",
    "import glob\n",
    "import pandas as pd"
   ]
  },
  {
   "cell_type": "code",
   "execution_count": 4,
   "id": "a2f04d97-6049-4b0c-9142-2d4612823d7d",
   "metadata": {},
   "outputs": [],
   "source": [
    "# Получаем список файлов в папке\n",
    "# Мы хотим получить только список XLSX файлов из нужной нам папки. \n",
    "# Лишние файлы нам не нужны. Для этого нужна функция glob. Сгенерируем список XLSX файлов из нужной нам папки.\n",
    "\n",
    "files = [item for item in glob.glob(r'c:\\Users\\Alexk\\Documents\\Att\\*{}'.format('.xlsx'))]"
   ]
  },
  {
   "cell_type": "code",
   "execution_count": 5,
   "id": "e9dff399-b896-4aa3-8ffd-8a9e648e0090",
   "metadata": {},
   "outputs": [
    {
     "data": {
      "text/plain": [
       "['c:\\\\Users\\\\Alexk\\\\Documents\\\\Att\\\\Приложение 7_02-03.05.2024.xlsx',\n",
       " 'c:\\\\Users\\\\Alexk\\\\Documents\\\\Att\\\\Приложение 7_06-08.05.2024.xlsx',\n",
       " 'c:\\\\Users\\\\Alexk\\\\Documents\\\\Att\\\\Приложение 7_13-18.05.2024.xlsx',\n",
       " 'c:\\\\Users\\\\Alexk\\\\Documents\\\\Att\\\\Приложение 7_20-24.05.2024.xlsx',\n",
       " 'c:\\\\Users\\\\Alexk\\\\Documents\\\\Att\\\\Приложение 7_27-31.05.2024.xlsx']"
      ]
     },
     "execution_count": 5,
     "metadata": {},
     "output_type": "execute_result"
    }
   ],
   "source": [
    "files"
   ]
  },
  {
   "cell_type": "code",
   "execution_count": 6,
   "id": "cfbfa6ee-7068-4a29-97fe-b198f9d95eb2",
   "metadata": {},
   "outputs": [],
   "source": [
    "# Создадим цикл обработки и объединения файлов\n",
    "# Мы создадим цикл, который обработает каждый файл и запишет результат в созданный для этого датафрейм.\n",
    "# При импорте мы удалим лишние строки сверху и выберем только нужные столбцы.\n",
    "# После этого мы переупорядочим столбцы и переименуем их.\n",
    "\n",
    "combined = pd.DataFrame()\n",
    "for file in files:\n",
    "    file = pd.read_excel(file,\n",
    "                         skiprows=4)\n",
    "    #                      usecols=['Дата\\nконтракта','Код точки\\nпродаж','Пользователь','MSISDN','ICC'])\n",
    "    # file = file[['Дата\\nконтракта','Код точки\\nпродаж','Пользователь','MSISDN','ICC']]\n",
    "    # file.columns=['date','posid','user','msisdn','icc']\n",
    "    combined = pd.concat([combined, file])"
   ]
  },
  {
   "cell_type": "code",
   "execution_count": 8,
   "id": "9301359b-f07e-4aea-800a-d6e4d535b114",
   "metadata": {},
   "outputs": [],
   "source": [
    "## Записать результат в книгу Excel.\n",
    "combined.to_excel('c:\\\\Users\\\\Alexk\\\\Documents\\\\Att\\\\name_.xlsx',\n",
    "                         index=False)"
   ]
  }
 ],
 "metadata": {
  "kernelspec": {
   "display_name": "Python 3 (ipykernel)",
   "language": "python",
   "name": "python3"
  },
  "language_info": {
   "codemirror_mode": {
    "name": "ipython",
    "version": 3
   },
   "file_extension": ".py",
   "mimetype": "text/x-python",
   "name": "python",
   "nbconvert_exporter": "python",
   "pygments_lexer": "ipython3",
   "version": "3.11.8"
  }
 },
 "nbformat": 4,
 "nbformat_minor": 5
}
