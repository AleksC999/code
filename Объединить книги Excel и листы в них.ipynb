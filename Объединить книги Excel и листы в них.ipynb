{
 "cells": [
  {
   "cell_type": "code",
   "execution_count": 17,
   "id": "527d6e82-4a2d-48ad-8066-ad347cee8f76",
   "metadata": {},
   "outputs": [],
   "source": [
    "# Объединить книги Excel и листы в них\n",
    "# У нас есть несколько однообразных книг Excel. В каждой книге Excel находится несколько листов с единой структурой. \n",
    "# Нам нужно одновременно объединить все книги и все листы в них в одну таблицу.\n",
    "# Импортируем нужные модули\n",
    "# Импорт модулей\n",
    "\n",
    "import pandas as pd\n",
    "import os\n",
    "import glob\n"
   ]
  },
  {
   "cell_type": "code",
   "execution_count": 18,
   "id": "0a6ea37c-8a47-4add-a8df-4bc4e25040ce",
   "metadata": {},
   "outputs": [],
   "source": [
    "# Укажем директорию, в которой находятся файлы\n",
    "\n",
    "# Сменим директорию\n",
    "os.chdir('c:\\\\Users\\\\Alexk\\\\Documents\\\\Att\\\\')"
   ]
  },
  {
   "cell_type": "code",
   "execution_count": 21,
   "id": "dd2caf44-fe3c-462b-b6a9-cf857d1fc53a",
   "metadata": {},
   "outputs": [],
   "source": [
    "# Создадим список книг для объединения\n",
    "\n",
    "# Список файлов Excel для объединения\n",
    "xl_files = glob.glob('*.xlsx')"
   ]
  },
  {
   "cell_type": "code",
   "execution_count": 22,
   "id": "ac3eee8c-d9b8-4f01-8938-1cc5c38042b6",
   "metadata": {},
   "outputs": [
    {
     "data": {
      "text/plain": [
       "['Приложение 7_02-03.05.2024.xlsx',\n",
       " 'Приложение 7_06-08.05.2024.xlsx',\n",
       " 'Приложение 7_13-18.05.2024.xlsx',\n",
       " 'Приложение 7_20-24.05.2024.xlsx',\n",
       " 'Приложение 7_27-31.05.2024.xlsx']"
      ]
     },
     "execution_count": 22,
     "metadata": {},
     "output_type": "execute_result"
    }
   ],
   "source": [
    "xl_files"
   ]
  },
  {
   "cell_type": "code",
   "execution_count": 23,
   "id": "c2863996-4a23-4c86-a599-6d4b7f3bdbb2",
   "metadata": {},
   "outputs": [],
   "source": [
    "# Создадим датафрейм, в который запишем таблицы\n",
    "# Читаем каждую книгу объединяем все листы в один датафрейм\n",
    "combined = pd.DataFrame()"
   ]
  },
  {
   "cell_type": "code",
   "execution_count": 26,
   "id": "ee29dcbd-530f-4b0d-bcb8-115cd36c5d89",
   "metadata": {},
   "outputs": [],
   "source": [
    "xl_file_obj = pd.ExcelFile(xl_file)"
   ]
  },
  {
   "cell_type": "code",
   "execution_count": 27,
   "id": "c3f383dd-c112-4947-a0bb-0e9426e3c7b5",
   "metadata": {},
   "outputs": [
    {
     "data": {
      "text/plain": [
       "<pandas.io.excel._base.ExcelFile at 0x1c322106d90>"
      ]
     },
     "execution_count": 27,
     "metadata": {},
     "output_type": "execute_result"
    }
   ],
   "source": [
    "xl_file_obj"
   ]
  },
  {
   "cell_type": "code",
   "execution_count": 31,
   "id": "563d075e-0491-471f-b91e-239c94b77b65",
   "metadata": {},
   "outputs": [],
   "source": [
    "# Читаем каждый файл и объединяем все таблицы\n",
    "\n",
    "# Цикл по файлам\n",
    "for xl_file in xl_files:\n",
    "    # Создать объект ExcelFile\n",
    "    xl_file_obj = pd.ExcelFile(xl_file)\n",
    "    # Цикл по листам\n",
    "    for sheet_name in xl_file_obj.sheet_names:\n",
    "        # Прочитать нужный лист книги\n",
    "        data = pd.read_excel(xl_file_obj,\n",
    "                             skiprows=4,\n",
    "                             sheet_name=sheet_name)\n",
    "        # Создадать столбец с названием книги\n",
    "        data['workbook'] = xl_file\n",
    "        # Создать столбец с названием листа\n",
    "        data['sheet'] = sheet_name\n",
    "        # Дописать в датафрейм combined\n",
    "        # combined = combined.append(data)\n",
    "        combined = pd.concat([combined, data])"
   ]
  },
  {
   "cell_type": "code",
   "execution_count": null,
   "id": "50795f1d-deee-4290-ab97-78d5817c2927",
   "metadata": {},
   "outputs": [],
   "source": []
  },
  {
   "cell_type": "code",
   "execution_count": 32,
   "id": "060572d0-fab8-4992-82ad-fe991307f023",
   "metadata": {},
   "outputs": [],
   "source": [
    "## Записать результат в книгу Excel.\n",
    "combined.to_excel('c:\\\\Users\\\\Alexk\\\\Documents\\\\Att\\\\all_.xlsx',\n",
    "                         index=False)"
   ]
  }
 ],
 "metadata": {
  "kernelspec": {
   "display_name": "Python 3 (ipykernel)",
   "language": "python",
   "name": "python3"
  },
  "language_info": {
   "codemirror_mode": {
    "name": "ipython",
    "version": 3
   },
   "file_extension": ".py",
   "mimetype": "text/x-python",
   "name": "python",
   "nbconvert_exporter": "python",
   "pygments_lexer": "ipython3",
   "version": "3.11.8"
  }
 },
 "nbformat": 4,
 "nbformat_minor": 5
}
