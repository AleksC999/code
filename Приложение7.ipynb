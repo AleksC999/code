{
 "cells": [
  {
   "cell_type": "code",
   "execution_count": null,
   "id": "bdf6568a-fda2-4ea7-8434-fe392acf566c",
   "metadata": {},
   "outputs": [],
   "source": [
    "# ОБЪЕДИНИТЬ ЛИСТЫ КНИГИ EXCEL\n",
    "# Примененные функции\n",
    "# pandas.ExcelFile\n",
    "# pandas.read_excel\n",
    "# list.append\n",
    "# pandas.concat\n",
    "# pandas.DataFrame.to_excel\n",
    "\n",
    "## Сначала импортируем модули\n",
    "import pandas as pd"
   ]
  },
  {
   "cell_type": "code",
   "execution_count": 4,
   "id": "c3b4364a-2c36-49d9-b584-4d893bae9eff",
   "metadata": {},
   "outputs": [],
   "source": [
    "## Создаем объект ExcelFile.\n",
    "xlsx = pd.ExcelFile('c:\\\\Users\\\\Alexk\\\\Documents\\\\Attachments\\\\Приложение 7_02-03.05.2024.xlsx')"
   ]
  },
  {
   "cell_type": "code",
   "execution_count": 5,
   "id": "7d807871-8e07-4d4a-94c1-aee2eac7d709",
   "metadata": {},
   "outputs": [],
   "source": [
    "## Получаем список листов\n",
    "worksheets = xlsx.sheet_names"
   ]
  },
  {
   "cell_type": "code",
   "execution_count": 10,
   "id": "d5cced98-0b15-4fa6-a0ca-677448f1b041",
   "metadata": {},
   "outputs": [],
   "source": [
    "## Создаем список, в котором каждый элемент — это датафрейм из одного листа.\n",
    "\n",
    "worksheets_dfs = []\n",
    "\n",
    "for worksheet in worksheets:\n",
    "    data = pd.read_excel(xlsx,\n",
    "                        skiprows=4,\n",
    "                        sheet_name=worksheet)\n",
    "    data['worksheet'] = worksheet\n",
    "    worksheets_dfs.append(data)"
   ]
  },
  {
   "cell_type": "code",
   "execution_count": 13,
   "id": "708af169-da42-40fa-9196-e2c56c3ec420",
   "metadata": {},
   "outputs": [],
   "source": [
    "## Объединить все датафреймы из списка\n",
    "worksheets_data = pd.concat(worksheets_dfs)"
   ]
  },
  {
   "cell_type": "code",
   "execution_count": 14,
   "id": "6876077d-1ecd-42f5-939b-8595652933b5",
   "metadata": {},
   "outputs": [],
   "source": [
    "## Записать результат в книгу Excel.\n",
    "worksheets_data.to_excel('c:\\\\Users\\\\Alexk\\\\Documents\\\\Attachments\\\\merger_.xlsx',\n",
    "                         index=False)"
   ]
  }
 ],
 "metadata": {
  "kernelspec": {
   "display_name": "Python 3 (ipykernel)",
   "language": "python",
   "name": "python3"
  },
  "language_info": {
   "codemirror_mode": {
    "name": "ipython",
    "version": 3
   },
   "file_extension": ".py",
   "mimetype": "text/x-python",
   "name": "python",
   "nbconvert_exporter": "python",
   "pygments_lexer": "ipython3",
   "version": "3.11.8"
  }
 },
 "nbformat": 4,
 "nbformat_minor": 5
}
