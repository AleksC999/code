{
 "cells": [
  {
   "cell_type": "code",
   "execution_count": 1,
   "id": "e52910a1-8065-4dee-8458-6981bd475dd3",
   "metadata": {},
   "outputs": [],
   "source": [
    "import docx"
   ]
  },
  {
   "cell_type": "code",
   "execution_count": 34,
   "id": "c2cde1f3-f789-467b-9ba0-7001fb57d99d",
   "metadata": {},
   "outputs": [],
   "source": [
    "doc = docx.Document('c:\\\\Users\\\\Alexk\\\\Documents\\\\Att\\\\Обучение.docx')"
   ]
  },
  {
   "cell_type": "code",
   "execution_count": 44,
   "id": "0320c5c9-eb7c-4db6-a643-964e5bb2847e",
   "metadata": {},
   "outputs": [
    {
     "name": "stdout",
     "output_type": "stream",
     "text": [
      "19\n",
      "по адресу ул. Тимуровский проезд, д.2,\n"
     ]
    }
   ],
   "source": [
    "# количество абзацев в документе\n",
    "print(len(doc.paragraphs))\n",
    "\n",
    "# текст первого абзаца в документе\n",
    "# print(doc.paragraphs[0].text)\n",
    "\n",
    "# текст второго абзаца в документе\n",
    "# print(doc.paragraphs[3].text)\n",
    "\n",
    "# текст первого Run второго абзаца\n",
    "print(doc.paragraphs[0].runs[1].text)"
   ]
  },
  {
   "cell_type": "code",
   "execution_count": 35,
   "id": "b48ce2e2-8713-470c-93d0-08615e0438b0",
   "metadata": {},
   "outputs": [
    {
     "name": "stdout",
     "output_type": "stream",
     "text": [
      "27 сентября 2023 года с 09.00 до 14.25 в Бюджетном учреждении Омской области дополнительного профессионального образования \"Учебно-методический центр по гражданской обороне и чрезвычайным ситуациям Омской области\" по адресу ул. Тимуровский проезд, д.2, состоятся занятия по Гражданской обороне для эвакуационных органов (объектовой эвакуационной комиссии) прошу обеспечить явку следующих работников:\n",
      "\n",
      "\n",
      "ОУП — ведущий специалист ОУП (Мамонова Н.А.); \n",
      "КЭС - 1 – мастер (Грузденко Д.П.); \n",
      "КЭС - 2 – мастер (Егоров Д.А.); \n",
      "КЭС - 3 - мастер (Трембач А.И.); \n",
      "КЭС - 4 – мастер (Понюхов Ю.А.); \n",
      "АТХ - кладовщик-комплектовщик (Субботина Т.Г.); \n",
      "СВК - инспектор (Моисеев В.Г.); \n",
      "АДС - заместитель начальника АДС (Ульянов В.И.); \n",
      "ЦПГ - начальник отдела реализации баллонного газа (Остапенко Г.Н.).\n",
      "Директор по безопасности (Оборовский Е.В.);\n",
      "Управляющий имущественным комплексом (Богомолова А.А.);\n",
      "Пресс-секретарь (Буденая Т.В.);\n",
      "Ведущий системный администратор ОПО ЦПГ (Иванов В.Д.);\n",
      "Начальник административно-хозяйственного отдела (Мальгавко Т.А,);\n",
      "Кладовщик службы врезок и капитального ремонта газовых сетей (Степанова И.С.).\n",
      "\n"
     ]
    }
   ],
   "source": [
    "# Получаем весь текст из документа:\n",
    "text = []\n",
    "for paragraph in doc.paragraphs:\n",
    "    text.append(paragraph.text)\n",
    "print('\\n'.join(text))"
   ]
  },
  {
   "cell_type": "code",
   "execution_count": 46,
   "id": "83abc6c7-7e0a-4e21-8441-0fcb09ad3df8",
   "metadata": {},
   "outputs": [],
   "source": [
    "styles = []\n",
    "for paragraph in doc.paragraphs:\n",
    "    styles.append(paragraph.style)"
   ]
  },
  {
   "cell_type": "code",
   "execution_count": 47,
   "id": "7433e69d-57b5-4087-8e11-40c2ca39afbd",
   "metadata": {},
   "outputs": [
    {
     "data": {
      "text/plain": [
       "[_ParagraphStyle('Plain Text') id: 1976503411536,\n",
       " _ParagraphStyle('Plain Text') id: 1976497586512,\n",
       " _ParagraphStyle('Plain Text') id: 1976497591952,\n",
       " _ParagraphStyle('Plain Text') id: 1976504164048,\n",
       " _ParagraphStyle('Plain Text') id: 1976504169936,\n",
       " _ParagraphStyle('Plain Text') id: 1976503188432,\n",
       " _ParagraphStyle('Plain Text') id: 1976503189456,\n",
       " _ParagraphStyle('Plain Text') id: 1976503180624,\n",
       " _ParagraphStyle('Plain Text') id: 1976503183248,\n",
       " _ParagraphStyle('Plain Text') id: 1976504172304,\n",
       " _ParagraphStyle('Plain Text') id: 1976503181200,\n",
       " _ParagraphStyle('Plain Text') id: 1976503186192,\n",
       " _ParagraphStyle('Plain Text') id: 1976503178000,\n",
       " _ParagraphStyle('Plain Text') id: 1976503182544,\n",
       " _ParagraphStyle('Plain Text') id: 1976503188496,\n",
       " _ParagraphStyle('Plain Text') id: 1976503176592,\n",
       " _ParagraphStyle('Plain Text') id: 1976503181072,\n",
       " _ParagraphStyle('Plain Text') id: 1976503180816,\n",
       " _ParagraphStyle('Normal') id: 1976503404304]"
      ]
     },
     "execution_count": 47,
     "metadata": {},
     "output_type": "execute_result"
    }
   ],
   "source": [
    "styles"
   ]
  }
 ],
 "metadata": {
  "kernelspec": {
   "display_name": "Python 3 (ipykernel)",
   "language": "python",
   "name": "python3"
  },
  "language_info": {
   "codemirror_mode": {
    "name": "ipython",
    "version": 3
   },
   "file_extension": ".py",
   "mimetype": "text/x-python",
   "name": "python",
   "nbconvert_exporter": "python",
   "pygments_lexer": "ipython3",
   "version": "3.11.8"
  }
 },
 "nbformat": 4,
 "nbformat_minor": 5
}
